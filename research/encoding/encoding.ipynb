{
 "cells": [
  {
   "cell_type": "markdown",
   "metadata": {},
   "source": [
    "# Overview\n",
    "TODO"
   ]
  },
  {
   "cell_type": "markdown",
   "metadata": {},
   "source": [
    "### Read input"
   ]
  },
  {
   "cell_type": "code",
   "execution_count": 1,
   "metadata": {},
   "outputs": [
    {
     "name": "stdout",
     "output_type": "stream",
     "text": [
      "Read 13979 nodes (tor=12352, i2p=1618, cjdns=9)\n"
     ]
    }
   ],
   "source": [
    "import pandas as pd\n",
    "\n",
    "df = pd.read_csv('reachable_darknet_nodes.csv.bz2', compression='bz2')\n",
    "df_tor = df[df['network'] == 'onion_v3']\n",
    "df_i2p = df[df['network'] == 'i2p']\n",
    "df_cjdns = df[df['network'] == 'cjdns']\n",
    "print(f\"Read {len(df)} nodes (tor={len(df_tor)}, i2p={len(df_i2p)}, cjdns={len(df_cjdns)})\")"
   ]
  },
  {
   "cell_type": "markdown",
   "metadata": {},
   "source": [
    "### Import `Address` class from darkseed"
   ]
  },
  {
   "cell_type": "code",
   "execution_count": 2,
   "metadata": {},
   "outputs": [],
   "source": [
    "import sys\n",
    "import os\n",
    "\n",
    "# Add the relative path to sys.path\n",
    "sys.path.append(os.path.abspath('../../src'))\n",
    "\n",
    "from darkseed.address import Address"
   ]
  },
  {
   "cell_type": "markdown",
   "metadata": {},
   "source": [
    "### Compute stuff"
   ]
  },
  {
   "cell_type": "code",
   "execution_count": 3,
   "metadata": {},
   "outputs": [
    {
     "name": "stdout",
     "output_type": "stream",
     "text": [
      "onion_address=jipika44erobgbgytvqfxyol6ehks3pqfzfzzib53d6jjfmuysoybfqd.onion\n",
      "<class 'darkseed.address.OnionV3Address'>\n",
      "onion_v3\n",
      "i2p_address=ua4fdaez7efn74yivvlyg2qooscqskviuovygiujgh3jyn6pfama.b32.i2p\n",
      "<class 'darkseed.address.I2PAddress'>\n"
     ]
    }
   ],
   "source": [
    "onion_address = df_tor['address'].iloc[0]\n",
    "print(f\"onion_address={onion_address}\")\n",
    "addr = Address(onion_address)\n",
    "print(type(addr))\n",
    "print(addr.network)\n",
    "addr.to_base64()\n",
    "\n",
    "i2p_address = df_i2p['address'].iloc[0]\n",
    "print(f\"i2p_address={i2p_address}\")\n",
    "addr = Address(i2p_address)\n",
    "print(type(addr))\n",
    "addr.to_base64()\n",
    "\n",
    "addr = Address(\"127.0.0.1\")"
   ]
  },
  {
   "cell_type": "markdown",
   "metadata": {},
   "source": [
    "## Codec"
   ]
  },
  {
   "cell_type": "markdown",
   "metadata": {},
   "source": [
    "### Average rdata size"
   ]
  },
  {
   "cell_type": "code",
   "execution_count": 9,
   "metadata": {},
   "outputs": [
    {
     "name": "stdout",
     "output_type": "stream",
     "text": [
      "network=onion, address_overhead=93.75%, encoding_overhead=25.00%, address_size=62, binary_size=32, encoded_size=40\n",
      "network=i2p, address_overhead=87.50%, encoding_overhead=25.00%, address_size=60, binary_size=32, encoded_size=40\n"
     ]
    }
   ],
   "source": [
    "network = \"onion\"\n",
    "onion_address = df_tor['address'].iloc[0]\n",
    "addr = Address(onion_address)\n",
    "addr_size = len(onion_address)\n",
    "binary_size = len(addr.pubkey)\n",
    "encoded_size = len(addr.to_base85())\n",
    "print(f\"network={network}, address_overhead={addr_size/binary_size-1:.2%}, encoding_overhead={encoded_size/binary_size-1:.2%}, address_size={addr_size}, binary_size={binary_size}, encoded_size={encoded_size}\")\n",
    "\n",
    "network = \"i2p\"\n",
    "i2p_address = df_i2p['address'].iloc[0]\n",
    "addr = Address(i2p_address)\n",
    "addr_size = len(i2p_address)\n",
    "binary_size = len(addr.hash)\n",
    "encoded_size = len(addr.to_base85())\n",
    "print(f\"network={network}, address_overhead={addr_size/binary_size-1:.2%}, encoding_overhead={encoded_size/binary_size-1:.2%}, address_size={addr_size}, binary_size={binary_size}, encoded_size={encoded_size}\")"
   ]
  },
  {
   "cell_type": "markdown",
   "metadata": {},
   "source": [
    "### Average rrec size"
   ]
  }
 ],
 "metadata": {
  "kernelspec": {
   "display_name": "Python 3.10.7 64-bit",
   "language": "python",
   "name": "python3"
  },
  "language_info": {
   "codemirror_mode": {
    "name": "ipython",
    "version": 3
   },
   "file_extension": ".py",
   "mimetype": "text/x-python",
   "name": "python",
   "nbconvert_exporter": "python",
   "pygments_lexer": "ipython3",
   "version": "3.11.6"
  },
  "orig_nbformat": 4,
  "vscode": {
   "interpreter": {
    "hash": "b0fa6594d8f4cbf19f97940f81e996739fb7646882a419484c72d19e05852a7e"
   }
  }
 },
 "nbformat": 4,
 "nbformat_minor": 2
}
